{
 "cells": [
  {
   "cell_type": "code",
   "execution_count": 12,
   "id": "192ce993",
   "metadata": {
    "ExecuteTime": {
     "end_time": "2022-06-16T12:02:51.859797Z",
     "start_time": "2022-06-16T12:02:50.834368Z"
    },
    "scrolled": false
   },
   "outputs": [
    {
     "name": "stdout",
     "output_type": "stream",
     "text": [
      "Requirement already satisfied: recorder in c:\\users\\utente77\\anaconda3\\envs\\speechrecognition\\lib\\site-packages (0.0.2)\n",
      "Requirement already satisfied: pyaudio in c:\\users\\utente77\\anaconda3\\envs\\speechrecognition\\lib\\site-packages (from recorder) (0.2.11)\n",
      "Requirement already satisfied: numpy in c:\\users\\utente77\\anaconda3\\envs\\speechrecognition\\lib\\site-packages (from recorder) (1.22.4)\n"
     ]
    }
   ],
   "source": [
    "!pip install recorder"
   ]
  },
  {
   "cell_type": "code",
   "execution_count": 15,
   "id": "47139fd3",
   "metadata": {
    "ExecuteTime": {
     "end_time": "2022-06-16T12:03:07.270564Z",
     "start_time": "2022-06-16T12:03:07.250617Z"
    }
   },
   "outputs": [
    {
     "ename": "ModuleNotFoundError",
     "evalue": "No module named 'Requests'",
     "output_type": "error",
     "traceback": [
      "\u001b[1;31m---------------------------------------------------------------------------\u001b[0m",
      "\u001b[1;31mModuleNotFoundError\u001b[0m                       Traceback (most recent call last)",
      "Input \u001b[1;32mIn [15]\u001b[0m, in \u001b[0;36m<cell line: 1>\u001b[1;34m()\u001b[0m\n\u001b[1;32m----> 1\u001b[0m \u001b[38;5;28;01mimport\u001b[39;00m \u001b[38;5;21;01mRequests\u001b[39;00m\n\u001b[0;32m      2\u001b[0m \u001b[38;5;28;01mimport\u001b[39;00m \u001b[38;5;21;01mjson\u001b[39;00m\n\u001b[0;32m      3\u001b[0m \u001b[38;5;28;01mfrom\u001b[39;00m \u001b[38;5;21;01mrecorder\u001b[39;00m \u001b[38;5;28;01mimport\u001b[39;00m record_audio, read_audio\n",
      "\u001b[1;31mModuleNotFoundError\u001b[0m: No module named 'Requests'"
     ]
    }
   ],
   "source": [
    "import Requests\n",
    "import json\n",
    "from recorder import record_audio, read_audio"
   ]
  },
  {
   "cell_type": "code",
   "execution_count": null,
   "id": "606c74ec",
   "metadata": {},
   "outputs": [],
   "source": [
    "# Wit speech API endpoint\n",
    "API_ENDPOINT = 'https://api.wit.ai/speech'\n",
    "\n",
    "# Wit.ai api access token\n",
    "wit_access_token = 'XXXXXXXXXXXXXXXXXXXXXXXXXXXXX'\n",
    "\n",
    "\n",
    "def RecognizeSpeech(AUDIO_FILENAME, num_seconds = 5):\n",
    "    \n",
    "    # record audio of specified length in specified audio file\n",
    "    record_audio(num_seconds, AUDIO_FILENAME)\n",
    "    \n",
    "    # reading audio\n",
    "    audio = read_audio(AUDIO_FILENAME)\n",
    "    \n",
    "    # defining headers for HTTP request\n",
    "    headers = {'authorization': 'Bearer ' + wit_access_token,\n",
    "               'Content-Type': 'audio/wav'}\n",
    "\n",
    "    # making an HTTP post request\n",
    "    resp = requests.post(API_ENDPOINT, headers = headers,\n",
    "                         data = audio)\n",
    "    \n",
    "    # converting response content to JSON format\n",
    "    data = json.loads(resp.content)\n",
    "    \n",
    "    # get text from data\n",
    "    text = data['_text']\n",
    "    \n",
    "    # return the text\n",
    "    return text\n",
    "\n",
    "\n",
    "if __name__ == \"__main__\":\n",
    "    text =  RecognizeSpeech('myspeech.wav', 4)\n",
    "    print(\"\\nYou said: {}\".format(text))"
   ]
  }
 ],
 "metadata": {
  "hide_input": false,
  "kernelspec": {
   "display_name": "Python 3 (ipykernel)",
   "language": "python",
   "name": "python3"
  },
  "language_info": {
   "codemirror_mode": {
    "name": "ipython",
    "version": 3
   },
   "file_extension": ".py",
   "mimetype": "text/x-python",
   "name": "python",
   "nbconvert_exporter": "python",
   "pygments_lexer": "ipython3",
   "version": "3.8.13"
  },
  "toc": {
   "base_numbering": 1,
   "nav_menu": {},
   "number_sections": true,
   "sideBar": true,
   "skip_h1_title": false,
   "title_cell": "Table of Contents",
   "title_sidebar": "Contents",
   "toc_cell": false,
   "toc_position": {},
   "toc_section_display": true,
   "toc_window_display": false
  }
 },
 "nbformat": 4,
 "nbformat_minor": 5
}
