{
 "cells": [
  {
   "cell_type": "code",
   "execution_count": 23,
   "id": "f2a56948",
   "metadata": {
    "ExecuteTime": {
     "end_time": "2022-06-16T12:17:05.598151Z",
     "start_time": "2022-06-16T12:16:53.935914Z"
    }
   },
   "outputs": [
    {
     "name": "stdout",
     "output_type": "stream",
     "text": [
      "Collecting deepspeech\n",
      "  Downloading deepspeech-0.9.3-cp38-cp38-win_amd64.whl (8.0 MB)\n",
      "Collecting numpy<=1.17.3,>=1.17.3\n",
      "  Downloading numpy-1.17.3-cp38-cp38-win_amd64.whl (12.7 MB)\n",
      "Installing collected packages: numpy, deepspeech\n",
      "  Attempting uninstall: numpy\n",
      "    Found existing installation: numpy 1.22.4\n",
      "    Uninstalling numpy-1.22.4:\n",
      "      Successfully uninstalled numpy-1.22.4\n"
     ]
    },
    {
     "name": "stderr",
     "output_type": "stream",
     "text": [
      "ERROR: Could not install packages due to an OSError: [WinError 5] Accesso negato: 'C:\\\\Users\\\\Utente77\\\\Anaconda3\\\\envs\\\\SpeechRecognition\\\\Lib\\\\site-packages\\\\~umpy\\\\.libs\\\\libopenblas.EL2C6PLE4ZYW3ECEVIV3OXXGRN2NRFM2.gfortran-win_amd64.dll'\n",
      "Consider using the `--user` option or check the permissions.\n",
      "\n"
     ]
    }
   ],
   "source": [
    "# !pip install SpeechRecognition\n",
    "# !pip install pipwin \n",
    "# !pipwin install pyaudio \n",
    "!pip3 install deepspeech"
   ]
  },
  {
   "cell_type": "code",
   "execution_count": 13,
   "id": "40ac57ec",
   "metadata": {
    "ExecuteTime": {
     "end_time": "2022-06-16T10:54:00.412063Z",
     "start_time": "2022-06-16T10:54:00.408075Z"
    }
   },
   "outputs": [],
   "source": [
    "import speech_recognition as sr\n",
    "\n",
    "wav = sr.AudioFile(r'C:\\Users\\Utente77\\Videos\\test1.wav') # formati riconosciuti: .aiff .flac .wav\n",
    "\n",
    "recognizer_instance = sr.Recognizer() # Crea una istanza del recognizer\n"
   ]
  },
  {
   "cell_type": "code",
   "execution_count": 21,
   "id": "f9aa5b06",
   "metadata": {
    "ExecuteTime": {
     "end_time": "2022-06-16T12:12:28.646458Z",
     "start_time": "2022-06-16T12:11:45.698578Z"
    }
   },
   "outputs": [
    {
     "name": "stdout",
     "output_type": "stream",
     "text": [
      "Ok! sto ora elaborando il messaggio!\n",
      "\n"
     ]
    }
   ],
   "source": [
    "with wav as source:\n",
    "    recognizer_instance.pause_threshold = 3.0 \n",
    "    audio = recognizer_instance.listen(source)\n",
    "    print(\"Ok! sto ora elaborando il messaggio!\")\n",
    "try:\n",
    "    text = recognizer_instance.recognize_google(audio, language=\"it-IT\")\n",
    "    print(\"Google ha capito: \\n\", text)\n",
    "except Exception as e:\n",
    "    print(e)\n"
   ]
  },
  {
   "cell_type": "code",
   "execution_count": null,
   "id": "d0c60397",
   "metadata": {},
   "outputs": [],
   "source": []
  }
 ],
 "metadata": {
  "hide_input": false,
  "kernelspec": {
   "display_name": "Python 3 (ipykernel)",
   "language": "python",
   "name": "python3"
  },
  "language_info": {
   "codemirror_mode": {
    "name": "ipython",
    "version": 3
   },
   "file_extension": ".py",
   "mimetype": "text/x-python",
   "name": "python",
   "nbconvert_exporter": "python",
   "pygments_lexer": "ipython3",
   "version": "3.8.13"
  },
  "toc": {
   "base_numbering": 1,
   "nav_menu": {},
   "number_sections": true,
   "sideBar": true,
   "skip_h1_title": false,
   "title_cell": "Table of Contents",
   "title_sidebar": "Contents",
   "toc_cell": false,
   "toc_position": {},
   "toc_section_display": true,
   "toc_window_display": false
  }
 },
 "nbformat": 4,
 "nbformat_minor": 5
}
