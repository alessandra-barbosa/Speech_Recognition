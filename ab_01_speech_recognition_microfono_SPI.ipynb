{
 "cells": [
  {
   "cell_type": "code",
   "execution_count": 15,
   "id": "e7891b45",
   "metadata": {
    "ExecuteTime": {
     "end_time": "2022-06-16T10:05:36.026525Z",
     "start_time": "2022-06-16T10:05:36.013597Z"
    }
   },
   "outputs": [],
   "source": [
    "# !pip install SpeechRecognition\n",
    "# !pip install pipwin \n",
    "# !pipwin install pyaudio "
   ]
  },
  {
   "cell_type": "code",
   "execution_count": null,
   "id": "87f6b79d",
   "metadata": {
    "ExecuteTime": {
     "start_time": "2022-06-16T11:35:32.069Z"
    }
   },
   "outputs": [
    {
     "name": "stdout",
     "output_type": "stream",
     "text": [
      "Parla che ti ascolto ...!\n"
     ]
    }
   ],
   "source": [
    "import speech_recognition as sr\n",
    "\n",
    "recognizer_instance = sr.Recognizer() # Crea una istanza del recognizer\n",
    "\n",
    "with sr.Microphone() as source:\n",
    "    recognizer_instance.adjust_for_ambient_noise(source)\n",
    "    print(\"Parla che ti ascolto ...!\")\n",
    "    audio = recognizer_instance.listen(source)\n",
    "    print(\"Grazie! sto ora elaborando il messaggio!\")\n",
    "try:\n",
    "    text = recognizer_instance.recognize_google(audio, language=\"it-IT\") #recognize_sphinx recognize_google\n",
    "    print(\"Google ha capito: \\n\", text)\n",
    "except Exception as e:\n",
    "    print(e)\n"
   ]
  },
  {
   "cell_type": "code",
   "execution_count": null,
   "id": "fd371214",
   "metadata": {},
   "outputs": [],
   "source": []
  }
 ],
 "metadata": {
  "hide_input": false,
  "kernelspec": {
   "display_name": "Python 3 (ipykernel)",
   "language": "python",
   "name": "python3"
  },
  "language_info": {
   "codemirror_mode": {
    "name": "ipython",
    "version": 3
   },
   "file_extension": ".py",
   "mimetype": "text/x-python",
   "name": "python",
   "nbconvert_exporter": "python",
   "pygments_lexer": "ipython3",
   "version": "3.8.13"
  },
  "toc": {
   "base_numbering": 1,
   "nav_menu": {},
   "number_sections": true,
   "sideBar": true,
   "skip_h1_title": false,
   "title_cell": "Table of Contents",
   "title_sidebar": "Contents",
   "toc_cell": false,
   "toc_position": {},
   "toc_section_display": true,
   "toc_window_display": false
  }
 },
 "nbformat": 4,
 "nbformat_minor": 5
}
